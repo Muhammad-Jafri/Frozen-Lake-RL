{
 "cells": [
  {
   "cell_type": "markdown",
   "metadata": {},
   "source": [
    "You can only use the libraries that have been provided to you. No other library use is allowed."
   ]
  },
  {
   "cell_type": "code",
   "execution_count": 1,
   "metadata": {},
   "outputs": [],
   "source": [
    "# No other libraries other than the given libraries are allowed.\n",
    "import gymnasium as gym\n",
    "import numpy as np\n",
    "import matplotlib.pyplot as plt"
   ]
  },
  {
   "cell_type": "code",
   "execution_count": 2,
   "metadata": {},
   "outputs": [],
   "source": [
    "terminal_states_4 = [5, 7, 11, 12] # Terminal states for 4 by 4 frozen lake environment\n",
    "terminal_states_8 = [19, 29, 35, 41, 42, 46, 49, 52, 54, 59] # Terminal states for 8 by 8 frozen lake environment\n",
    "\n",
    "\n",
    "actions = {\n",
    "\"LEFT\" : 0,\n",
    "\"DOWN\" : 1,\n",
    "\"RIGHT\" : 2,\n",
    "\"UP\" : 3\n",
    "}"
   ]
  },
  {
   "cell_type": "code",
   "execution_count": 3,
   "metadata": {},
   "outputs": [],
   "source": [
    "class RLTables:\n",
    "\n",
    "    def __init__(self, map_size):\n",
    "        self.map_size = map_size\n",
    "        self.total_states = map_size * map_size\n",
    "        self.goal_state = self.total_states - 1\n",
    "\n",
    "    def initialize_value_table(self):\n",
    "\n",
    "        self.value_table = np.zeros(self.total_states)\n",
    "\n",
    "\n",
    "\n",
    "    def initialize_q_table(self):\n",
    "\n",
    "        self.q_table = np.zeros((self.total_states, 4))\n",
    "\n",
    "\n",
    "\n",
    "\n",
    "\n",
    "    def initialize_random_policy(self):\n",
    "\n",
    "\n",
    "        self.policy = np.random.randint(0,3,self.total_states)\n",
    "\n",
    "        if self.map_size == 4:\n",
    "            self.terminal_states = terminal_states_4\n",
    "        if self.map_size == 8:\n",
    "            self.terminal_states = terminal_states_8\n",
    "\n",
    "        for state in self.terminal_states: # Change this when you are solving for the 8 by 8 frozen lake environment.\n",
    "            self.policy[state] = -1\n",
    "\n",
    "        self.policy[self.goal_state] = -2\n",
    "\n",
    "\n",
    "    def print_all_tables(self):\n",
    "\n",
    "        print(\"Value Table\")\n",
    "        print(self.value_table)\n",
    "        print(\"\\nQ-Table\")\n",
    "        print(self.q_table)\n",
    "        print(\"Policy\")\n",
    "        print(self.policy)\n",
    "        print(\"Reward\")\n",
    "        print(self.reward)\n",
    "\n",
    "    def get_tables(self):\n",
    "        return self.policy, self.value_table, self.q_table, self.reward\n",
    "\n",
    "\n",
    "    def initialize_reward(self):\n",
    "        self.reward = np.zeros(self.total_states)\n",
    "        self.reward[self.goal_state] = 1\n",
    "\n",
    "\n",
    "\n",
    "    def initialize_all_tables(self):\n",
    "        self.initialize_random_policy()\n",
    "        self.initialize_value_table()\n",
    "        self.initialize_q_table()\n",
    "        self.initialize_reward()"
   ]
  },
  {
   "cell_type": "code",
   "execution_count": 4,
   "metadata": {},
   "outputs": [],
   "source": [
    "class Plot(RLTables):\n",
    "    def __init__(self, map_size):\n",
    "        super().__init__(map_size)\n",
    "        self.directions = {-2: \"G\", -1: \" \", 0: \"←\", 1: \"↓\", 2: \"→\", 3: \"↑\"}\n",
    "\n",
    "    def convert_policy_to_arrows(self):\n",
    "\n",
    "        def replace_with_direction(num):\n",
    "            return self.directions[num]\n",
    "\n",
    "        vectorized_replace = np.vectorize(replace_with_direction)\n",
    "\n",
    "        result_array = vectorized_replace(self.policy)\n",
    "\n",
    "        return result_array\n",
    "\n",
    "    def show_policy_table(self):\n",
    "        arrow_based_policy = self.convert_policy_to_arrows()\n",
    "\n",
    "        self.data = list(arrow_based_policy.reshape(self.map_size, self.map_size))\n",
    "\n",
    "        # Create a figure and axis\n",
    "        _, ax = plt.subplots()\n",
    "        colors = plt.cm.BuPu(np.full((self.map_size, self.map_size), 0.1))\n",
    "\n",
    "\n",
    "        self.table = ax.table(cellText=self.data, loc='center', cellLoc='center', colLabels=None, cellColours=colors)\n",
    "\n",
    "        if self.map_size == 4:\n",
    "                self.table.scale(0.6, 4)\n",
    "        elif self.map_size == 8:\n",
    "                self.table.scale(0.5, 2)\n",
    "\n",
    "        # Hide axis\n",
    "        ax.axis('off')\n",
    "\n",
    "        # Customize cell properties (optional)\n",
    "        self.table.auto_set_font_size(False)\n",
    "        self.table.set_fontsize(25)\n",
    "        self.table.scale(1.5, 1.5)  # Adjust cell size as needed\n",
    "        ax.axis('off')  # Turn off the axis\n",
    "\n",
    "    def show_value_table(self):\n",
    "\n",
    "\n",
    "\n",
    "        self.show_policy_table()\n",
    "\n",
    "        if self.map_size == 8:\n",
    "            self.table.set_fontsize(10)\n",
    "\n",
    "        for i in range(self.map_size):\n",
    "                    for j in range(self.map_size):\n",
    "\n",
    "                            cell_text = self.data[i][j]\n",
    "\n",
    "                            if cell_text == \" \" or cell_text == \"G\":\n",
    "                                    continue\n",
    "\n",
    "                            cell = self.table[i, j]\n",
    "\n",
    "                            number_text = str(round( self.value_table[self.map_size*i + j], 2))\n",
    "                            full_text = cell_text + '\\n' + number_text\n",
    "                            cell.get_text().set_text(full_text)\n",
    "\n",
    "\n",
    "    def show_q_table(self):\n",
    "\n",
    "        self.show_policy_table()\n",
    "\n",
    "        if self.map_size == 4:\n",
    "            self.table.set_fontsize(10)\n",
    "        elif self.map_size == 8:\n",
    "            self.table.set_fontsize(5)\n",
    "\n",
    "\n",
    "\n",
    "        for i in range(self.map_size):\n",
    "                        for j in range(self.map_size):\n",
    "\n",
    "                                cell_text = self.data[i][j]\n",
    "\n",
    "                                if cell_text == \" \" or cell_text == \"G\":\n",
    "                                        continue\n",
    "\n",
    "\n",
    "                                cell = self.table[i, j]\n",
    "\n",
    "                                number_text2 = str(round( self.q_table[self.map_size*i + j][0], 2))\n",
    "                                number_text4 = str(round( self.q_table[self.map_size*i + j][1], 2))\n",
    "                                number_text3 = str(round( self.q_table[self.map_size*i + j][2], 2))\n",
    "                                number_text1 = str(round( self.q_table[self.map_size*i + j][3], 2))\n",
    "\n",
    "                                full_text = number_text1 + \"\\n\\n\" + number_text2 + \"  \" + cell_text + \"  \" + number_text3 + \"\\n\\n\" + number_text4\n",
    "\n",
    "                                cell.get_text().set_text(full_text)\n",
    "\n",
    "\n",
    "    def show_all_tables(self):\n",
    "        self.show_policy_table()\n",
    "        self.show_value_table()\n",
    "        self.show_q_table()\n"
   ]
  },
  {
   "cell_type": "markdown",
   "metadata": {},
   "source": [
    "The RLTables class initializes all the tables you will need. You need to find the correct policy, value table and qtable. The Plot Class inherits from RLTables. It makes for an easy visualization tool that you can use to visualize these tables."
   ]
  },
  {
   "cell_type": "code",
   "execution_count": 5,
   "metadata": {},
   "outputs": [
    {
     "name": "stdout",
     "output_type": "stream",
     "text": [
      "Value Table\n",
      "[0. 0. 0. 0. 0. 0. 0. 0. 0. 0. 0. 0. 0. 0. 0. 0.]\n",
      "\n",
      "Q-Table\n",
      "[[0. 0. 0. 0.]\n",
      " [0. 0. 0. 0.]\n",
      " [0. 0. 0. 0.]\n",
      " [0. 0. 0. 0.]\n",
      " [0. 0. 0. 0.]\n",
      " [0. 0. 0. 0.]\n",
      " [0. 0. 0. 0.]\n",
      " [0. 0. 0. 0.]\n",
      " [0. 0. 0. 0.]\n",
      " [0. 0. 0. 0.]\n",
      " [0. 0. 0. 0.]\n",
      " [0. 0. 0. 0.]\n",
      " [0. 0. 0. 0.]\n",
      " [0. 0. 0. 0.]\n",
      " [0. 0. 0. 0.]\n",
      " [0. 0. 0. 0.]]\n",
      "Policy\n",
      "[ 1  0  0  2  0 -1  1 -1  0  1  1 -1 -1  2  1 -2]\n",
      "Reward\n",
      "[0. 0. 0. 0. 0. 0. 0. 0. 0. 0. 0. 0. 0. 0. 0. 1.]\n"
     ]
    }
   ],
   "source": [
    "# Here I have showed a basic usage of the classes.\n",
    "\n",
    "rl = RLTables(map_size=4) # You can change map_size to 8 when solving for the 8 by 9 environment.\n",
    "rl.initialize_all_tables()\n",
    "rl.print_all_tables()"
   ]
  },
  {
   "cell_type": "code",
   "execution_count": 6,
   "metadata": {},
   "outputs": [
    {
     "data": {
      "image/png": "[encoded data removed]",
      "text/plain": [
       "<Figure size 640x480 with 1 Axes>"
      ]
     },
     "metadata": {},
     "output_type": "display_data"
    },
    {
     "data": {
      "image/png": "[encoded data removed]",
      "text/plain": [
       "<Figure size 640x480 with 1 Axes>"
      ]
     },
     "metadata": {},
     "output_type": "display_data"
    },
    {
     "data": {
      "image/png": "[encoded data removed]",
      "text/plain": [
       "<Figure size 640x480 with 1 Axes>"
      ]
     },
     "metadata": {},
     "output_type": "display_data"
    }
   ],
   "source": [
    "plot = Plot(map_size=4)\n",
    "plot.initialize_all_tables()\n",
    "plot.show_all_tables()"
   ]
  },
  {
   "cell_type": "code",
   "execution_count": 7,
   "metadata": {},
   "outputs": [
    {
     "data": {
      "image/png": "[encoded data removed]",
      "text/plain": [
       "<Figure size 640x480 with 1 Axes>"
      ]
     },
     "metadata": {},
     "output_type": "display_data"
    },
    {
     "data": {
      "image/png": "[encoded data removed]",
      "text/plain": [
       "<Figure size 640x480 with 1 Axes>"
      ]
     },
     "metadata": {},
     "output_type": "display_data"
    },
    {
     "data": {
      "image/png": "[encoded data removed]",
      "text/plain": [
       "<Figure size 640x480 with 1 Axes>"
      ]
     },
     "metadata": {},
     "output_type": "display_data"
    }
   ],
   "source": [
    "# For an 8 by 8 environment.\n",
    "plot = Plot(map_size=8)\n",
    "plot.initialize_all_tables()\n",
    "plot.show_all_tables()"
   ]
  },
  {
   "cell_type": "markdown",
   "metadata": {},
   "source": [
    "The Policy is randomly initialized. There are no algorithms implemented for this and so value table and qtable are initialized to 0."
   ]
  },
  {
   "cell_type": "markdown",
   "metadata": {},
   "source": [
    "https://gymnasium.farama.org/environments/toy_text/frozen_lake/\n",
    "\n",
    "The above link contains all you need to know about the environment."
   ]
  },
  {
   "cell_type": "markdown",
   "metadata": {},
   "source": [
    "Good Luck for the assignment! If you want any help, you can ask for help from the instructor or Mahen Mughal on Slack."
   ]
  },
  {
   "cell_type": "markdown",
   "metadata": {},
   "source": [
    "**a)** Find the optimal policy, value table and q table for both frozen lake 4 by 4 environments using  \n",
    "\n",
    "    i) Policy Iteration  \n",
    "\n",
    "**b)** Perform part a on 8 by 8 frozen lake environment  \n",
    "\n",
    "**c)** Find success rate on 100000 iterations for the optimal policy for both 4 by 4 environment and 8 by 8 environment.  \n",
    "\n",
    "**d)** Do you think this should be the success rate for the 8 by 8 environment. If not, why not?\n"
   ]
  },
  {
   "cell_type": "code",
   "execution_count": 8,
   "metadata": {},
   "outputs": [],
   "source": [
    "def state_from_coordinates(state, map_size): #state = (2,1) should return 9 if map size 4\n",
    "    return (map_size * state[0] + state[1])\n",
    "\n",
    "\n",
    "def get_states(action,state,map_size): #given an action and state and map size, find the next states\n",
    "\n",
    "    reachable_states = []\n",
    "\n",
    "    col = state % map_size\n",
    "    row = (state - col) // map_size\n",
    "\n",
    "    if (action == 0): #state on the left, up and down : action left\n",
    "\n",
    "        reachable_states = [(row, col - 1),(row - 1, col),(row + 1, col)]\n",
    "\n",
    "    if(action == 1): #action : down. get the state below right and left\n",
    "\n",
    "        reachable_states = [(row + 1,col),(row, col - 1),(row, col + 1)]\n",
    "\n",
    "    if(action == 2): #action is right, get state on the right up and down\n",
    "\n",
    "        reachable_states = [(row, col + 1),(row+1, col),(row - 1, col)]\n",
    "\n",
    "    if(action == 3): #action is up, get the state up, right and left\n",
    "\n",
    "        reachable_states = [(row - 1, col),(row, col + 1),(row, col - 1)]\n",
    "\n",
    "\n",
    "    #if the action takes out of the grid replace that unwanted state with the current state\n",
    "\n",
    "    next_states = []\n",
    "\n",
    "    for i in reachable_states:\n",
    "\n",
    "        if(i[0] < 0 or i[0] > map_size - 1 or i[1] < 0 or i[1] > map_size - 1):\n",
    "            next_states.append(state)\n",
    "\n",
    "        else:\n",
    "            next_states.append(state_from_coordinates(i, map_size))\n",
    "\n",
    "\n",
    "\n",
    "    return next_states\n"
   ]
  },
  {
   "cell_type": "code",
   "execution_count": 9,
   "metadata": {},
   "outputs": [
    {
     "name": "stdout",
     "output_type": "stream",
     "text": [
      "Value Table\n",
      "[0. 0. 0. 0. 0. 0. 0. 0. 0. 0. 0. 0. 0. 0. 0. 0.]\n",
      "\n",
      "Q-Table\n",
      "[[0. 0. 0. 0.]\n",
      " [0. 0. 0. 0.]\n",
      " [0. 0. 0. 0.]\n",
      " [0. 0. 0. 0.]\n",
      " [0. 0. 0. 0.]\n",
      " [0. 0. 0. 0.]\n",
      " [0. 0. 0. 0.]\n",
      " [0. 0. 0. 0.]\n",
      " [0. 0. 0. 0.]\n",
      " [0. 0. 0. 0.]\n",
      " [0. 0. 0. 0.]\n",
      " [0. 0. 0. 0.]\n",
      " [0. 0. 0. 0.]\n",
      " [0. 0. 0. 0.]\n",
      " [0. 0. 0. 0.]\n",
      " [0. 0. 0. 0.]]\n",
      "Policy\n",
      "[ 2  1  2  1  2 -1  1 -1  1  0  0 -1 -1  1  1 -2]\n",
      "Reward\n",
      "[0. 0. 0. 0. 0. 0. 0. 0. 0. 0. 0. 0. 0. 0. 0. 1.]\n"
     ]
    }
   ],
   "source": [
    "env_4 = RLTables(4)\n",
    "env_4.initialize_all_tables()\n",
    "env_4.print_all_tables()"
   ]
  },
  {
   "cell_type": "code",
   "execution_count": 10,
   "metadata": {},
   "outputs": [
    {
     "name": "stdout",
     "output_type": "stream",
     "text": [
      "[1 3 1 1 3 0 1 1 0 0 0 1 3 1 2 1]\n",
      "[0. 3. 0. 3. 0. 0. 0. 0. 3. 1. 0. 0. 0. 2. 1. 0.]\n",
      "[0.18047157 0.15475672 0.15347714 0.13254843 0.20896709 0.\n",
      " 0.17643079 0.         0.2704574  0.37465152 0.40367271 0.\n",
      " 0.         0.50897995 0.72367364 0.        ]\n"
     ]
    }
   ],
   "source": [
    "def policy_evaluation(pi_s, epsilon, map_size,gamma): #get the converged values  of each state under a fixed policy\n",
    "    \n",
    "    total_states = map_size*map_size\n",
    "    rewards = np.zeros(map_size*map_size)\n",
    "    rewards[map_size*map_size - 1] = 1\n",
    "    V_s_next = np.zeros(map_size*map_size)\n",
    "    V_s_prev = np.zeros(map_size*map_size)\n",
    "    \n",
    "    terminal_states = []\n",
    "\n",
    "    if(map_size == 4):\n",
    "        terminal_states = terminal_states_4\n",
    "    if(map_size == 8):\n",
    "        terminal_states = terminal_states_8\n",
    "\n",
    "\n",
    "\n",
    "    \n",
    "\n",
    "    while True:\n",
    "\n",
    "        for state in range(map_size*map_size):\n",
    "\n",
    "            if state in terminal_states or state == map_size*map_size - 1:\n",
    "                continue\n",
    "            \n",
    "            q_values_s = []\n",
    "\n",
    "            for action in range(4):\n",
    "\n",
    "                expectation_action_state = 0 \n",
    "                \n",
    "                reachable_states = get_states(action, state, map_size)\n",
    "\n",
    "                for reachable_state in reachable_states:\n",
    "\n",
    "                    expectation_action_state += 1/3 * (rewards[reachable_state] + gamma*V_s_prev[reachable_state])\n",
    "                \n",
    "                q_values_s.append(expectation_action_state)\n",
    "\n",
    "            V_s_next[state] = max(q_values_s)\n",
    "\n",
    "\n",
    "        delta = np.max(V_s_next) - np.max(V_s_prev)\n",
    "\n",
    "        if(delta > 0 and delta < epsilon):\n",
    "            \n",
    "            break\n",
    "\n",
    "\n",
    "        temp = V_s_prev\n",
    "        V_s_prev = V_s_next\n",
    "        V_s_next = temp\n",
    "\n",
    "\n",
    "\n",
    "    return V_s_next\n",
    "\n",
    "            \n",
    "def policy_improvement(policies, value_function, map_size,gamma): #given a value function of a certain policy, find out the new policies\n",
    "\n",
    "    total_states = map_size*map_size\n",
    "    rewards = np.zeros(total_states)\n",
    "    rewards[total_states - 1] = 1\n",
    "    V_s = value_function\n",
    "    q_table = np.zeros((total_states, map_size))\n",
    "\n",
    "    for state in range(total_states):\n",
    "\n",
    "        if state in terminal_states_4 or state == total_states - 1:\n",
    "            continue\n",
    "\n",
    "        for action in range(4):\n",
    "\n",
    "            reachable_states = get_states(action, state, map_size)\n",
    "\n",
    "            for reachable_state in reachable_states:\n",
    "\n",
    "                q_table[state][action] += 1/3 * (rewards[reachable_state] + gamma*value_function[reachable_state])\n",
    "\n",
    "            \n",
    "    derived_policies = np.zeros(total_states)\n",
    "\n",
    "    for i in range(total_states):\n",
    "        derived_policies[i] = np.argmax(q_table[i])\n",
    "\n",
    "    is_stable = True\n",
    "\n",
    "    #checking if the policies are stable\n",
    "\n",
    "    for i in range(total_states):\n",
    "        if(derived_policies[i] != policies[i]):\n",
    "            is_stable = False\n",
    "            break\n",
    "\n",
    "\n",
    "    \n",
    "\n",
    "    return derived_policies, is_stable\n",
    "\n",
    "\n",
    "def policy_iteration(epsilon, map_size,gamma):\n",
    "\n",
    "    arbitrary_policy = np.random.randint(0,4, map_size*map_size)\n",
    "    print(arbitrary_policy)\n",
    "    value_under_policy = policy_evaluation(arbitrary_policy, epsilon, map_size,gamma)\n",
    "\n",
    "    updated_policy, is_stable = policy_improvement(arbitrary_policy, value_under_policy, map_size,gamma)\n",
    "\n",
    "    while(not is_stable):\n",
    "\n",
    "        value_under_policy = policy_evaluation(updated_policy, epsilon, map_size,gamma)\n",
    "        updated_policy,is_stable = policy_improvement(updated_policy, value_under_policy,map_size,gamma)\n",
    "\n",
    "\n",
    "    return updated_policy, value_under_policy\n",
    "\n",
    "\n",
    "optimal_policies_four, optimal_values_four = policy_iteration(0.0000000001, 4,0.95)\n",
    "\n",
    "\n",
    "print(optimal_policies_four)\n",
    "print(optimal_values_four)\n",
    "\n"
   ]
  },
  {
   "cell_type": "code",
   "execution_count": 11,
   "metadata": {},
   "outputs": [],
   "source": [
    "env_4.policy = optimal_policies_four\n",
    "env_4.value_table = optimal_values_four\n",
    "\n"
   ]
  },
  {
   "cell_type": "markdown",
   "metadata": {},
   "source": [
    "### Success on 4 by 4"
   ]
  },
  {
   "cell_type": "code",
   "execution_count": 12,
   "metadata": {},
   "outputs": [
    {
     "name": "stdout",
     "output_type": "stream",
     "text": [
      "Success Percentage on 4 by 4 grid is : 72.993%\n"
     ]
    }
   ],
   "source": [
    "#testing\n",
    "env = gym.make(\"FrozenLake-v1\", is_slippery=True,map_name = '4x4')\n",
    "# env.action_space.seed(42)\n",
    "\n",
    "observation, info = env.reset()\n",
    "\n",
    "failure_count = 0\n",
    "success_count = 0\n",
    "\n",
    "for i in range(100000):\n",
    "    # print(i)\n",
    "    done = False\n",
    "    while not done:\n",
    "        observation, reward, terminated, truncated, info = env.step(optimal_policies_four[observation])\n",
    "\n",
    "        # print(\"Observation:\", observation)\n",
    "        # print(\"Reward:\", reward)\n",
    "        # print(\"Terminated:\", terminated)\n",
    "        # print(\"Truncated:\", truncated)\n",
    "        # print(\"Info:\", info)\n",
    "\n",
    "        if observation == 15:\n",
    "            success_count += 1\n",
    "            # print(i)\n",
    "\n",
    "\n",
    "        if terminated or truncated:\n",
    "            # print(failure_count)\n",
    "            observation, info = env.reset()\n",
    "            done = True\n",
    "            # failure_count += 1\n",
    "\n",
    "env.close()\n",
    "\n",
    "\n",
    "\n",
    "print(f\"Success Percentage on 4 by 4 grid is : {success_count/100000 * 100}%\")"
   ]
  },
  {
   "cell_type": "code",
   "execution_count": 13,
   "metadata": {},
   "outputs": [
    {
     "name": "stdout",
     "output_type": "stream",
     "text": [
      "Value Table\n",
      "[0. 0. 0. 0. 0. 0. 0. 0. 0. 0. 0. 0. 0. 0. 0. 0. 0. 0. 0. 0. 0. 0. 0. 0.\n",
      " 0. 0. 0. 0. 0. 0. 0. 0. 0. 0. 0. 0. 0. 0. 0. 0. 0. 0. 0. 0. 0. 0. 0. 0.\n",
      " 0. 0. 0. 0. 0. 0. 0. 0. 0. 0. 0. 0. 0. 0. 0. 0.]\n",
      "\n",
      "Q-Table\n",
      "[[0. 0. 0. 0.]\n",
      " [0. 0. 0. 0.]\n",
      " [0. 0. 0. 0.]\n",
      " [0. 0. 0. 0.]\n",
      " [0. 0. 0. 0.]\n",
      " [0. 0. 0. 0.]\n",
      " [0. 0. 0. 0.]\n",
      " [0. 0. 0. 0.]\n",
      " [0. 0. 0. 0.]\n",
      " [0. 0. 0. 0.]\n",
      " [0. 0. 0. 0.]\n",
      " [0. 0. 0. 0.]\n",
      " [0. 0. 0. 0.]\n",
      " [0. 0. 0. 0.]\n",
      " [0. 0. 0. 0.]\n",
      " [0. 0. 0. 0.]\n",
      " [0. 0. 0. 0.]\n",
      " [0. 0. 0. 0.]\n",
      " [0. 0. 0. 0.]\n",
      " [0. 0. 0. 0.]\n",
      " [0. 0. 0. 0.]\n",
      " [0. 0. 0. 0.]\n",
      " [0. 0. 0. 0.]\n",
      " [0. 0. 0. 0.]\n",
      " [0. 0. 0. 0.]\n",
      " [0. 0. 0. 0.]\n",
      " [0. 0. 0. 0.]\n",
      " [0. 0. 0. 0.]\n",
      " [0. 0. 0. 0.]\n",
      " [0. 0. 0. 0.]\n",
      " [0. 0. 0. 0.]\n",
      " [0. 0. 0. 0.]\n",
      " [0. 0. 0. 0.]\n",
      " [0. 0. 0. 0.]\n",
      " [0. 0. 0. 0.]\n",
      " [0. 0. 0. 0.]\n",
      " [0. 0. 0. 0.]\n",
      " [0. 0. 0. 0.]\n",
      " [0. 0. 0. 0.]\n",
      " [0. 0. 0. 0.]\n",
      " [0. 0. 0. 0.]\n",
      " [0. 0. 0. 0.]\n",
      " [0. 0. 0. 0.]\n",
      " [0. 0. 0. 0.]\n",
      " [0. 0. 0. 0.]\n",
      " [0. 0. 0. 0.]\n",
      " [0. 0. 0. 0.]\n",
      " [0. 0. 0. 0.]\n",
      " [0. 0. 0. 0.]\n",
      " [0. 0. 0. 0.]\n",
      " [0. 0. 0. 0.]\n",
      " [0. 0. 0. 0.]\n",
      " [0. 0. 0. 0.]\n",
      " [0. 0. 0. 0.]\n",
      " [0. 0. 0. 0.]\n",
      " [0. 0. 0. 0.]\n",
      " [0. 0. 0. 0.]\n",
      " [0. 0. 0. 0.]\n",
      " [0. 0. 0. 0.]\n",
      " [0. 0. 0. 0.]\n",
      " [0. 0. 0. 0.]\n",
      " [0. 0. 0. 0.]\n",
      " [0. 0. 0. 0.]\n",
      " [0. 0. 0. 0.]]\n",
      "Policy\n",
      "[ 2  0  2  2  2  2  1  0  1  1  2  2  2  1  0  2  1  1  0 -1  2  0  2  2\n",
      "  0  1  0  0  1 -1  2  1  1  1  1 -1  2  2  0  1  0 -1 -1  0  1  2 -1  2\n",
      "  0 -1  1  2 -1  1 -1  2  1  0  0 -1  1  2  0 -2]\n",
      "Reward\n",
      "[0. 0. 0. 0. 0. 0. 0. 0. 0. 0. 0. 0. 0. 0. 0. 0. 0. 0. 0. 0. 0. 0. 0. 0.\n",
      " 0. 0. 0. 0. 0. 0. 0. 0. 0. 0. 0. 0. 0. 0. 0. 0. 0. 0. 0. 0. 0. 0. 0. 0.\n",
      " 0. 0. 0. 0. 0. 0. 0. 0. 0. 0. 0. 0. 0. 0. 0. 1.]\n"
     ]
    }
   ],
   "source": [
    "env_8 = RLTables(8)\n",
    "env_8.initialize_all_tables()\n",
    "env_8.print_all_tables()"
   ]
  },
  {
   "cell_type": "code",
   "execution_count": 14,
   "metadata": {},
   "outputs": [
    {
     "name": "stdout",
     "output_type": "stream",
     "text": [
      "[3 3 1 1 2 1 1 1 3 0 1 0 1 0 0 0 2 0 1 1 2 2 0 1 1 2 3 2 1 1 3 3 2 3 0 0 1\n",
      " 2 1 2 1 3 1 0 1 0 3 1 2 3 1 1 0 2 3 3 1 0 2 1 3 0 0 0]\n",
      "[3. 2. 2. 2. 2. 0. 2. 0. 3. 3. 3. 0. 0. 2. 2. 1. 3. 3. 0. 3. 2. 3. 2. 1.\n",
      " 3. 3. 3. 1. 0. 2. 2. 1. 3. 3. 0. 2. 2. 1. 3. 2. 0. 0. 2. 1. 3. 0. 3. 2.\n",
      " 0. 1. 1. 0. 2. 0. 1. 2. 0. 1. 0. 3. 1. 1. 1. 0.]\n",
      "[0.04825019 0.05586865 0.06811766 0.08391801 0.10246783 0.11983687\n",
      " 0.13396309 0.13978561 0.04666177 0.052441   0.06307274 0.07861841\n",
      " 0.10127791 0.12463226 0.14929265 0.16185702 0.04221616 0.04443625\n",
      " 0.04566786 0.         0.09272491 0.12444605 0.17563035 0.19997777\n",
      " 0.03688352 0.0373746  0.03670529 0.03286899 0.06709153 0.\n",
      " 0.20535173 0.25590064 0.02997277 0.02779457 0.02042496 0.\n",
      " 0.0862741  0.13289287 0.21694818 0.3468549  0.02163706 0.\n",
      " 0.         0.02610794 0.07246012 0.11643941 0.         0.49257573\n",
      " 0.01671772 0.         0.00542678 0.00998599 0.         0.16235041\n",
      " 0.         0.71607168 0.01443803 0.01000476 0.0071512  0.\n",
      " 0.18362624 0.39624609 0.67143111 0.        ]\n"
     ]
    }
   ],
   "source": [
    "optimal_policies_eight, optimal_values_eight = policy_iteration(0.0000000001, 8,0.95)\n",
    "\n",
    "\n",
    "print(optimal_policies_eight)\n",
    "print(optimal_values_eight)\n"
   ]
  },
  {
   "cell_type": "markdown",
   "metadata": {},
   "source": [
    "### Success on 8 by 8"
   ]
  },
  {
   "cell_type": "code",
   "execution_count": 15,
   "metadata": {},
   "outputs": [
    {
     "name": "stdout",
     "output_type": "stream",
     "text": [
      "Success Percentage on 8 by 8 grid is : 73.60799999999999%\n"
     ]
    }
   ],
   "source": [
    "#testing\n",
    "env = gym.make(\"FrozenLake-v1\", is_slippery=True,map_name = '8x8')\n",
    "# env.action_space.seed(42)\n",
    "\n",
    "observation, info = env.reset()\n",
    "\n",
    "failure_count = 0\n",
    "success_count = 0\n",
    "\n",
    "for i in range(100000):\n",
    "    # print(i)\n",
    "    done = False\n",
    "    while not done:\n",
    "        observation, reward, terminated, truncated, info = env.step(optimal_policies_eight[observation])\n",
    "\n",
    "        # print(\"Observation:\", observation)\n",
    "        # print(\"Reward:\", reward)\n",
    "        # print(\"Terminated:\", terminated)\n",
    "        # print(\"Truncated:\", truncated)\n",
    "        # print(\"Info:\", info)\n",
    "\n",
    "        if observation == 15:\n",
    "            success_count += 1\n",
    "            # print(i)\n",
    "\n",
    "\n",
    "        if terminated or truncated:\n",
    "            # print(failure_count)\n",
    "            observation, info = env.reset()\n",
    "            done = True\n",
    "            # failure_count += 1\n",
    "\n",
    "env.close()\n",
    "\n",
    "\n",
    "\n",
    "print(f\"Success Percentage on 8 by 8 grid is : {success_count/100000 * 100}%\")"
   ]
  },
  {
   "cell_type": "markdown",
   "metadata": {},
   "source": [
    "### Visualization 4 by 4"
   ]
  },
  {
   "cell_type": "code",
   "execution_count": 16,
   "metadata": {},
   "outputs": [],
   "source": [
    "plot_4 = Plot(4)\n",
    "plot_4.initialize_all_tables()"
   ]
  },
  {
   "cell_type": "code",
   "execution_count": 17,
   "metadata": {},
   "outputs": [],
   "source": [
    "plot_4.policy = optimal_policies_four\n",
    "plot_4.value_table = optimal_values_four\n",
    "\n",
    "for i in range(16):\n",
    "    if i == 15:\n",
    "        plot_4.policy[i] = -2\n",
    "    \n",
    "    if i in terminal_states_4:\n",
    "        plot_4.policy[i] = -1\n"
   ]
  },
  {
   "cell_type": "code",
   "execution_count": 18,
   "metadata": {},
   "outputs": [
    {
     "data": {
      "image/png": "[encoded data removed]",
      "text/plain": [
       "<Figure size 640x480 with 1 Axes>"
      ]
     },
     "metadata": {},
     "output_type": "display_data"
    }
   ],
   "source": [
    "\n",
    "plot_4.show_value_table()"
   ]
  },
  {
   "cell_type": "markdown",
   "metadata": {},
   "source": [
    "### Visualization 8 by 8"
   ]
  },
  {
   "cell_type": "code",
   "execution_count": 19,
   "metadata": {},
   "outputs": [],
   "source": [
    "plot_8 = Plot(8)\n",
    "plot_8.initialize_all_tables()\n",
    "plot_8.policy = optimal_policies_eight\n",
    "plot_8.value_table = optimal_values_eight\n",
    "\n",
    "for i in range(64):\n",
    "    if i == 63:\n",
    "        plot_8.policy[i] = -2\n",
    "    \n",
    "    if i in terminal_states_8:\n",
    "        plot_8.policy[i] = -1\n"
   ]
  },
  {
   "cell_type": "code",
   "execution_count": 20,
   "metadata": {},
   "outputs": [
    {
     "data": {
      "image/png": "[encoded data removed]",
      "text/plain": [
       "<Figure size 640x480 with 1 Axes>"
      ]
     },
     "metadata": {},
     "output_type": "display_data"
    }
   ],
   "source": [
    "plot_8.show_value_table()"
   ]
  },
  {
   "cell_type": "markdown",
   "metadata": {},
   "source": [
    "### Part D\n",
    "\n",
    "yes because we have found the optimal policies in the 4 by 4 as well as the 8 by 8 case. Also given the stochastic nature of the problem we have come up with the best decisions thus the success rate of 4 by 4 should be pretty close to the success rate of 8 by 8 which we have seen above"
   ]
  }
 ],
 "metadata": {
  "kernelspec": {
   "display_name": "Python 3",
   "language": "python",
   "name": "python3"
  },
  "language_info": {
   "codemirror_mode": {
    "name": "ipython",
    "version": 3
   },
   "file_extension": ".py",
   "mimetype": "text/x-python",
   "name": "python",
   "nbconvert_exporter": "python",
   "pygments_lexer": "ipython3",
   "version": "3.10.10"
  },
  "orig_nbformat": 4
 },
 "nbformat": 4,
 "nbformat_minor": 2
}
